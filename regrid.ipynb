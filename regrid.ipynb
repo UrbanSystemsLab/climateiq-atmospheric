{
 "cells": [
  {
   "cell_type": "code",
   "execution_count": null,
   "metadata": {},
   "outputs": [],
   "source": [
    "from os import listdir\n",
    "import numpy as np\n",
    "import rioxarray as rxr # for the extension to load\n",
    "import xarray as xr\n",
    "import rasterio as rio\n",
    "\n",
    "import matplotlib.pyplot as plt\n",
    "import cartopy.crs as ccrs"
   ]
  },
  {
   "cell_type": "code",
   "execution_count": null,
   "metadata": {},
   "outputs": [],
   "source": [
    "def interpOutGrid(ds, numpoints=10000):\n",
    "\n",
    "    # Create new coordinates\n",
    "    newx = np.linspace(ds['x'].min().values, ds['x'].max().values, num=numpoints)\n",
    "    newy = np.linspace(ds['y'].min().values, ds['y'].max().values, num=numpoints)\n",
    "\n",
    "    newds = xr.Dataset(coords={'band': np.array(1), \n",
    "                               'x': ('x', newx), \n",
    "                               'y': ('y', newy)},\n",
    "                      )\n",
    "    \n",
    "    # Interpolate\n",
    "    ds_interp = ds.interp_like(newds, method='cubic')\n",
    "    ds_interp.attrs = ds.attrs\n",
    "    ds_interp.name = ds.name\n",
    "\n",
    "    return ds_interp.astype('int32')\n",
    "    \n",
    "\n"
   ]
  },
  {
   "cell_type": "code",
   "execution_count": null,
   "metadata": {},
   "outputs": [],
   "source": [
    "datadir = 'src_data'\n",
    "datafiles = listdir(datadir)\n",
    "\n",
    "outdir = 'out_data'"
   ]
  },
  {
   "cell_type": "code",
   "execution_count": null,
   "metadata": {},
   "outputs": [],
   "source": [
    "datafiles"
   ]
  },
  {
   "cell_type": "code",
   "execution_count": null,
   "metadata": {},
   "outputs": [],
   "source": [
    "for n, fname in enumerate(datafiles[:]):\n",
    "    print(fname)\n",
    "    infile = '/'.join([datadir, fname])\n",
    "    outfile = '/'.join([outdir, fname])\n",
    "    dsin = rxr.open_rasterio(infile)\n",
    "    dsout = interpOutGrid(dsin)\n",
    "\n",
    "    dsout.rio.to_raster(outfile)"
   ]
  }
 ],
 "metadata": {
  "kernelspec": {
   "display_name": "climdata",
   "language": "python",
   "name": "climdata"
  },
  "language_info": {
   "codemirror_mode": {
    "name": "ipython",
    "version": 3
   },
   "file_extension": ".py",
   "mimetype": "text/x-python",
   "name": "python",
   "nbconvert_exporter": "python",
   "pygments_lexer": "ipython3",
   "version": "3.12.1"
  }
 },
 "nbformat": 4,
 "nbformat_minor": 2
}
