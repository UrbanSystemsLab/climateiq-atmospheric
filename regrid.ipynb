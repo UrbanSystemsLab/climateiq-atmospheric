{
 "cells": [
  {
   "cell_type": "code",
   "execution_count": 1,
   "metadata": {},
   "outputs": [],
   "source": [
    "from os import listdir\n",
    "import numpy as np\n",
    "import rioxarray as rxr # for the extension to load\n",
    "import xarray as xr\n",
    "import rasterio as rio\n",
    "\n",
    "import matplotlib.pyplot as plt\n",
    "import cartopy.crs as ccrs"
   ]
  },
  {
   "cell_type": "code",
   "execution_count": 2,
   "metadata": {},
   "outputs": [],
   "source": [
    "def interpOutGrid(ds, numpoints=10000, method='linear'):\n",
    "\n",
    "    # Create new coordinates\n",
    "    newx = np.linspace(ds['x'].min().values, ds['x'].max().values, num=numpoints)\n",
    "    newy = np.linspace(ds['y'].min().values, ds['y'].max().values, num=numpoints)\n",
    "\n",
    "    # Create template Dataset with the new coordinates. THis will be used as the argument\n",
    "    # in the interp_like method\n",
    "    newds = xr.Dataset(coords={'band': np.array(1), \n",
    "                               'x': ('x', newx), \n",
    "                               'y': ('y', newy)},\n",
    "                      )\n",
    "    \n",
    "    # Interpolate using interp_like. Then copy the attributes from original file.\n",
    "\n",
    "    ds_interp = ds.interp_like(newds, method=method)\n",
    "    ds_interp.attrs = ds.attrs\n",
    "    ds_interp.name = ds.name\n",
    "\n",
    "    return ds_interp.astype('int32')\n",
    "    \n",
    "\n"
   ]
  },
  {
   "cell_type": "code",
   "execution_count": 3,
   "metadata": {},
   "outputs": [],
   "source": [
    "# Original data lives in the src_data directory. We use listdir to get all the tif files within\n",
    "\n",
    "datadir = 'src_data'\n",
    "datafiles = listdir(datadir)\n",
    "datafiles = [f for f in datafiles if f[-3:] == 'tif']\n",
    "\n",
    "# This is where we will write output files\n",
    "outdir = 'out_data'"
   ]
  },
  {
   "cell_type": "code",
   "execution_count": 5,
   "metadata": {},
   "outputs": [
    {
     "name": "stdout",
     "output_type": "stream",
     "text": [
      "heat_days_humidity_100_99p.tif\n",
      "heat_days_humidity_30_99p.tif\n",
      "heat_days_humidity_50_99p.tif\n",
      "heat_days_humidity_60_99p.tif\n",
      "heat_days_humidity_70_99p.tif\n",
      "heat_days_humidity_80_99p.tif\n",
      "heat_days_humidity_90_99p.tif\n",
      "heat_days_index_30c_99p.tif\n",
      "heat_days_index_35c_99p.tif\n",
      "heat_days_index_40c_99p.tif\n",
      "heat_days_index_45c_99p.tif\n",
      "heat_days_temp_25c_99p.tif\n",
      "heat_days_temp_30c_99p.tif\n",
      "heat_days_temp_35c_99p.tif\n",
      "heat_days_temp_40c_99p.tif\n"
     ]
    }
   ],
   "source": [
    "for n, fname in enumerate(datafiles[:]):\n",
    "    print('Processing 'fname)\n",
    "    infile = '/'.join([datadir, fname])\n",
    "    outfile = '/'.join([outdir, fname])\n",
    "    dsin = rxr.open_rasterio(infile)\n",
    "    dsout = interpOutGrid(dsin)\n",
    "\n",
    "    dsout.rio.to_raster(outfile)"
   ]
  }
 ],
 "metadata": {
  "kernelspec": {
   "display_name": "climdata",
   "language": "python",
   "name": "climdata"
  },
  "language_info": {
   "codemirror_mode": {
    "name": "ipython",
    "version": 3
   },
   "file_extension": ".py",
   "mimetype": "text/x-python",
   "name": "python",
   "nbconvert_exporter": "python",
   "pygments_lexer": "ipython3",
   "version": "3.12.1"
  }
 },
 "nbformat": 4,
 "nbformat_minor": 2
}
